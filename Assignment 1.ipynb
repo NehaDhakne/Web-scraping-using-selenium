{
 "cells": [
  {
   "cell_type": "markdown",
   "metadata": {},
   "source": [
    "Q1: Write a python program to scrape data for “Data Analyst” Job position in\n",
    "\n",
    "“Bangalore” location. You have to scrape the job-title, job-location, company_name,\n",
    "\n",
    "experience_required. You have to scrape first 10 jobs data.\n",
    "\n",
    "This task will be done in following steps:\n",
    "\n",
    "1. first get the webpage https://www.naukri.com/\n",
    "2. Enter “Data Analyst” in “Skill,Designations,Companies” field and enter “Bangalore”\n",
    "in “enter the location” field.\n",
    "3. Then click the search button.\n",
    "4. Then scrape the data for the first 10 jobs results you get.\n",
    "5. Finally create a dataframe of the scraped data.\n",
    "\n",
    "Note- All of the above steps have to be done in code. No step is to be done manually."
   ]
  },
  {
   "cell_type": "code",
   "execution_count": 1,
   "metadata": {},
   "outputs": [],
   "source": [
    "# importing necesssary libraries\n",
    "\n",
    "import selenium\n",
    "import pandas as pd\n",
    "from selenium import webdriver"
   ]
  },
  {
   "cell_type": "code",
   "execution_count": 2,
   "metadata": {},
   "outputs": [],
   "source": [
    "driver = webdriver.Chrome(r\"C:\\Users\\91950\\Downloads\\chromedriver_win32\\chromedriver.exe\")"
   ]
  },
  {
   "cell_type": "code",
   "execution_count": 4,
   "metadata": {},
   "outputs": [],
   "source": [
    "driver.get(\"https://www.naukri.com/\")"
   ]
  },
  {
   "cell_type": "code",
   "execution_count": 5,
   "metadata": {},
   "outputs": [],
   "source": [
    "search_job = driver.find_element_by_id(\"qsb-keyword-sugg\")"
   ]
  },
  {
   "cell_type": "code",
   "execution_count": 6,
   "metadata": {},
   "outputs": [],
   "source": [
    "search_job.send_keys(\"Data Analyst\")"
   ]
  },
  {
   "cell_type": "code",
   "execution_count": 7,
   "metadata": {},
   "outputs": [],
   "source": [
    "search_loc = driver.find_element_by_id(\"qsb-location-sugg\")"
   ]
  },
  {
   "cell_type": "code",
   "execution_count": 8,
   "metadata": {},
   "outputs": [],
   "source": [
    "search_loc.send_keys(\"Bangalore\")"
   ]
  },
  {
   "cell_type": "code",
   "execution_count": 9,
   "metadata": {},
   "outputs": [],
   "source": [
    "search_btn = driver.find_element_by_xpath(\"//div[@class='search-btn']/button\")\n",
    "\n",
    "search_btn.click()\n"
   ]
  },
  {
   "cell_type": "code",
   "execution_count": 12,
   "metadata": {},
   "outputs": [
    {
     "data": {
      "text/plain": [
       "[<selenium.webdriver.remote.webelement.WebElement (session=\"ed7b0eb826ee0bfbba876c9e80dd538e\", element=\"c35824fb-0846-4daa-bea1-7a2612c6d633\")>,\n",
       " <selenium.webdriver.remote.webelement.WebElement (session=\"ed7b0eb826ee0bfbba876c9e80dd538e\", element=\"369ded32-07fa-4e58-ab6c-9b2d96006fc8\")>,\n",
       " <selenium.webdriver.remote.webelement.WebElement (session=\"ed7b0eb826ee0bfbba876c9e80dd538e\", element=\"f47036ce-dd49-4c64-97a9-74e6824f1c38\")>,\n",
       " <selenium.webdriver.remote.webelement.WebElement (session=\"ed7b0eb826ee0bfbba876c9e80dd538e\", element=\"0ea9c76f-10e4-4ca3-87a1-c990de2923e8\")>,\n",
       " <selenium.webdriver.remote.webelement.WebElement (session=\"ed7b0eb826ee0bfbba876c9e80dd538e\", element=\"568d613c-3f07-4ea0-9b39-524a488c2fc4\")>,\n",
       " <selenium.webdriver.remote.webelement.WebElement (session=\"ed7b0eb826ee0bfbba876c9e80dd538e\", element=\"e25a77a4-b515-407a-992b-a0dab7985499\")>,\n",
       " <selenium.webdriver.remote.webelement.WebElement (session=\"ed7b0eb826ee0bfbba876c9e80dd538e\", element=\"503a2eaa-d405-42df-ab00-26342b549def\")>,\n",
       " <selenium.webdriver.remote.webelement.WebElement (session=\"ed7b0eb826ee0bfbba876c9e80dd538e\", element=\"e2ed51c1-8778-4c09-be79-44032ff93e82\")>,\n",
       " <selenium.webdriver.remote.webelement.WebElement (session=\"ed7b0eb826ee0bfbba876c9e80dd538e\", element=\"bab2ff30-05bd-458b-b8cc-33d8a0c945ef\")>,\n",
       " <selenium.webdriver.remote.webelement.WebElement (session=\"ed7b0eb826ee0bfbba876c9e80dd538e\", element=\"7a26176a-273f-4f87-9ffe-b3f607359240\")>,\n",
       " <selenium.webdriver.remote.webelement.WebElement (session=\"ed7b0eb826ee0bfbba876c9e80dd538e\", element=\"5855913d-0ff3-4b68-856f-791a19743062\")>,\n",
       " <selenium.webdriver.remote.webelement.WebElement (session=\"ed7b0eb826ee0bfbba876c9e80dd538e\", element=\"796afb8e-ad19-4f5b-a1f0-b6349d600d46\")>,\n",
       " <selenium.webdriver.remote.webelement.WebElement (session=\"ed7b0eb826ee0bfbba876c9e80dd538e\", element=\"7acea5db-63c1-4f7b-87b3-3df866037f58\")>,\n",
       " <selenium.webdriver.remote.webelement.WebElement (session=\"ed7b0eb826ee0bfbba876c9e80dd538e\", element=\"f841f208-581b-4e60-9f50-4b0aa9c3da1c\")>,\n",
       " <selenium.webdriver.remote.webelement.WebElement (session=\"ed7b0eb826ee0bfbba876c9e80dd538e\", element=\"7b81047d-2c25-4069-9942-8c188ecfdcf2\")>,\n",
       " <selenium.webdriver.remote.webelement.WebElement (session=\"ed7b0eb826ee0bfbba876c9e80dd538e\", element=\"63502042-2410-402f-be92-dd2454008fb2\")>,\n",
       " <selenium.webdriver.remote.webelement.WebElement (session=\"ed7b0eb826ee0bfbba876c9e80dd538e\", element=\"64be2d56-1c2a-4949-a74e-a5387e0f6f11\")>,\n",
       " <selenium.webdriver.remote.webelement.WebElement (session=\"ed7b0eb826ee0bfbba876c9e80dd538e\", element=\"226616a7-11af-4abf-a534-cd2719c26165\")>,\n",
       " <selenium.webdriver.remote.webelement.WebElement (session=\"ed7b0eb826ee0bfbba876c9e80dd538e\", element=\"35a8f6d0-c5f7-4a2f-bae5-cc83eb3fe270\")>,\n",
       " <selenium.webdriver.remote.webelement.WebElement (session=\"ed7b0eb826ee0bfbba876c9e80dd538e\", element=\"16de7d77-7170-4e2a-b75c-b41d46891ba0\")>]"
      ]
     },
     "execution_count": 12,
     "metadata": {},
     "output_type": "execute_result"
    }
   ],
   "source": [
    "title_tags= driver.find_elements_by_xpath(\"//a[@class='title fw500 ellipsis']\")\n",
    "\n",
    "title_tags"
   ]
  },
  {
   "cell_type": "code",
   "execution_count": null,
   "metadata": {},
   "outputs": [],
   "source": []
  },
  {
   "cell_type": "code",
   "execution_count": 15,
   "metadata": {},
   "outputs": [
    {
     "data": {
      "text/plain": [
       "['Associate Data Analyst',\n",
       " 'SQL Data Analyst',\n",
       " 'Data Analyst - Marketing',\n",
       " 'Business Data Analyst',\n",
       " 'Data Analyst',\n",
       " 'Openings For Data Analyst',\n",
       " 'Senior Data Analyst',\n",
       " 'Senior Data Analyst',\n",
       " 'Senior Data Analyst',\n",
       " 'Senior Data Analyst',\n",
       " 'Senior Data Analyst II',\n",
       " 'Business Data Analyst',\n",
       " 'Data Analyst / Business Analyst (Demand Planning)',\n",
       " 'Data Analyst',\n",
       " 'Lead Data Analyst / Data Engineer',\n",
       " 'Senior Data Analyst',\n",
       " 'Data Analyst 1',\n",
       " 'Ref Data Analyst',\n",
       " 'Revenue Ops Data Analyst',\n",
       " 'Job Openings For Data Analyst-Bangalore']"
      ]
     },
     "execution_count": 15,
     "metadata": {},
     "output_type": "execute_result"
    }
   ],
   "source": [
    "job_titles = []\n",
    "\n",
    "for i in title_tags:\n",
    "    title = i.text\n",
    "    job_titles.append(title)\n",
    "job_titles"
   ]
  },
  {
   "cell_type": "code",
   "execution_count": 20,
   "metadata": {},
   "outputs": [
    {
     "data": {
      "text/plain": [
       "10"
      ]
     },
     "execution_count": 20,
     "metadata": {},
     "output_type": "execute_result"
    }
   ],
   "source": [
    "job_titles = job_titles[0:10]\n",
    "\n",
    "len(job_titles)"
   ]
  },
  {
   "cell_type": "code",
   "execution_count": 22,
   "metadata": {},
   "outputs": [
    {
     "data": {
      "text/plain": [
       "[<selenium.webdriver.remote.webelement.WebElement (session=\"ed7b0eb826ee0bfbba876c9e80dd538e\", element=\"6797a025-12a8-4d57-bf5c-ca372ac812e5\")>,\n",
       " <selenium.webdriver.remote.webelement.WebElement (session=\"ed7b0eb826ee0bfbba876c9e80dd538e\", element=\"1e0792c5-8bf6-4699-8801-3a8b679481ba\")>,\n",
       " <selenium.webdriver.remote.webelement.WebElement (session=\"ed7b0eb826ee0bfbba876c9e80dd538e\", element=\"f94a2842-7f12-463a-b614-3f2ab3d665db\")>,\n",
       " <selenium.webdriver.remote.webelement.WebElement (session=\"ed7b0eb826ee0bfbba876c9e80dd538e\", element=\"7864980a-bc2a-478a-bff1-e04689c4c079\")>,\n",
       " <selenium.webdriver.remote.webelement.WebElement (session=\"ed7b0eb826ee0bfbba876c9e80dd538e\", element=\"c7c33c42-dbb6-4f72-9bfd-9ca2cdb00461\")>,\n",
       " <selenium.webdriver.remote.webelement.WebElement (session=\"ed7b0eb826ee0bfbba876c9e80dd538e\", element=\"8839aad9-803a-41b9-9db2-68dcc64c7a38\")>,\n",
       " <selenium.webdriver.remote.webelement.WebElement (session=\"ed7b0eb826ee0bfbba876c9e80dd538e\", element=\"46ea2951-6a15-4beb-896a-703774200a1f\")>,\n",
       " <selenium.webdriver.remote.webelement.WebElement (session=\"ed7b0eb826ee0bfbba876c9e80dd538e\", element=\"4e21e9fd-f3eb-4a9b-8236-f774b38bdff3\")>,\n",
       " <selenium.webdriver.remote.webelement.WebElement (session=\"ed7b0eb826ee0bfbba876c9e80dd538e\", element=\"5d10cca2-056e-45cb-a500-9c8521cbb61d\")>,\n",
       " <selenium.webdriver.remote.webelement.WebElement (session=\"ed7b0eb826ee0bfbba876c9e80dd538e\", element=\"111a70de-267a-4eca-8b35-ee0084b1d517\")>,\n",
       " <selenium.webdriver.remote.webelement.WebElement (session=\"ed7b0eb826ee0bfbba876c9e80dd538e\", element=\"812cf705-45cb-40db-9f63-663226338d88\")>,\n",
       " <selenium.webdriver.remote.webelement.WebElement (session=\"ed7b0eb826ee0bfbba876c9e80dd538e\", element=\"0f6db94d-b6c2-496e-a684-23118f6e0fd9\")>,\n",
       " <selenium.webdriver.remote.webelement.WebElement (session=\"ed7b0eb826ee0bfbba876c9e80dd538e\", element=\"05747ce3-67de-479b-aa15-17994d179b42\")>,\n",
       " <selenium.webdriver.remote.webelement.WebElement (session=\"ed7b0eb826ee0bfbba876c9e80dd538e\", element=\"ac1ca2a0-cc72-4f56-aedd-cd33a9b29a02\")>,\n",
       " <selenium.webdriver.remote.webelement.WebElement (session=\"ed7b0eb826ee0bfbba876c9e80dd538e\", element=\"9ebe6304-df54-433c-93eb-54a2edc84fd7\")>,\n",
       " <selenium.webdriver.remote.webelement.WebElement (session=\"ed7b0eb826ee0bfbba876c9e80dd538e\", element=\"18365d87-5b7e-4dab-a6ac-78d63a3d78cc\")>,\n",
       " <selenium.webdriver.remote.webelement.WebElement (session=\"ed7b0eb826ee0bfbba876c9e80dd538e\", element=\"f621501a-9265-4a4b-a765-750cc59125b3\")>,\n",
       " <selenium.webdriver.remote.webelement.WebElement (session=\"ed7b0eb826ee0bfbba876c9e80dd538e\", element=\"27ba7ec2-34d4-4167-ba44-f52c9b28ff76\")>,\n",
       " <selenium.webdriver.remote.webelement.WebElement (session=\"ed7b0eb826ee0bfbba876c9e80dd538e\", element=\"dd0b06b0-8b35-4773-916c-1a4e6bdeeda5\")>,\n",
       " <selenium.webdriver.remote.webelement.WebElement (session=\"ed7b0eb826ee0bfbba876c9e80dd538e\", element=\"becdbb8d-76fc-4a7d-a140-e81a2ce165d1\")>]"
      ]
     },
     "execution_count": 22,
     "metadata": {},
     "output_type": "execute_result"
    }
   ],
   "source": [
    "location_tags =  driver.find_elements_by_xpath(\"//li[@class = 'fleft grey-text br2 placeHolderLi location']/span[1]\")\n",
    "\n",
    "location_tags\n",
    "\n",
    "\n"
   ]
  },
  {
   "cell_type": "code",
   "execution_count": 25,
   "metadata": {},
   "outputs": [
    {
     "data": {
      "text/plain": [
       "['Bangalore/Bengaluru',\n",
       " 'Bangalore/Bengaluru',\n",
       " 'Bangalore/Bengaluru',\n",
       " 'Bangalore/Bengaluru',\n",
       " 'Bangalore/Bengaluru',\n",
       " 'Bangalore/Bengaluru',\n",
       " 'Bangalore/Bengaluru',\n",
       " 'Bangalore/Bengaluru',\n",
       " 'Bangalore/Bengaluru',\n",
       " 'Bangalore/Bengaluru',\n",
       " 'Bangalore/Bengaluru',\n",
       " 'Bangalore/Bengaluru',\n",
       " 'Bangalore/Bengaluru',\n",
       " 'Bangalore/Bengaluru',\n",
       " 'Bangalore/Bengaluru',\n",
       " 'Bangalore/Bengaluru',\n",
       " 'Bangalore/Bengaluru',\n",
       " 'Bangalore/Bengaluru',\n",
       " 'Bangalore/Bengaluru',\n",
       " 'Bangalore/Bengaluru']"
      ]
     },
     "execution_count": 25,
     "metadata": {},
     "output_type": "execute_result"
    }
   ],
   "source": [
    "job_location=[]\n",
    "\n",
    "for i in location_tags:\n",
    "    location=i.text\n",
    "    job_location.append(location)\n",
    "    \n",
    "job_location"
   ]
  },
  {
   "cell_type": "code",
   "execution_count": 27,
   "metadata": {},
   "outputs": [
    {
     "data": {
      "text/plain": [
       "10"
      ]
     },
     "execution_count": 27,
     "metadata": {},
     "output_type": "execute_result"
    }
   ],
   "source": [
    "job_location = job_location[0:10]\n",
    "\n",
    "\n",
    "len(job_location)"
   ]
  },
  {
   "cell_type": "code",
   "execution_count": 28,
   "metadata": {},
   "outputs": [
    {
     "data": {
      "text/plain": [
       "[<selenium.webdriver.remote.webelement.WebElement (session=\"ed7b0eb826ee0bfbba876c9e80dd538e\", element=\"4ec0f982-4e5f-421c-a533-2d431aa5a1bd\")>,\n",
       " <selenium.webdriver.remote.webelement.WebElement (session=\"ed7b0eb826ee0bfbba876c9e80dd538e\", element=\"1e3f4bcf-63b8-46a3-8043-6bdc29d7752b\")>,\n",
       " <selenium.webdriver.remote.webelement.WebElement (session=\"ed7b0eb826ee0bfbba876c9e80dd538e\", element=\"f7b79b00-a2a7-46ad-9701-1433000870c6\")>,\n",
       " <selenium.webdriver.remote.webelement.WebElement (session=\"ed7b0eb826ee0bfbba876c9e80dd538e\", element=\"95720315-e0f3-4d9c-843e-8662740f81ed\")>,\n",
       " <selenium.webdriver.remote.webelement.WebElement (session=\"ed7b0eb826ee0bfbba876c9e80dd538e\", element=\"f84a7545-3336-410c-a80a-405f21cf81af\")>,\n",
       " <selenium.webdriver.remote.webelement.WebElement (session=\"ed7b0eb826ee0bfbba876c9e80dd538e\", element=\"60037c0e-dfe6-4ee0-98b9-44306bd09fdb\")>,\n",
       " <selenium.webdriver.remote.webelement.WebElement (session=\"ed7b0eb826ee0bfbba876c9e80dd538e\", element=\"34cc6ff9-acde-43ca-95e3-22ebca5ce5b7\")>,\n",
       " <selenium.webdriver.remote.webelement.WebElement (session=\"ed7b0eb826ee0bfbba876c9e80dd538e\", element=\"ce2831fa-c9f5-4145-97fa-100503726ce4\")>,\n",
       " <selenium.webdriver.remote.webelement.WebElement (session=\"ed7b0eb826ee0bfbba876c9e80dd538e\", element=\"54ee22a8-5a3b-4dee-bb78-81c87b7ce63e\")>,\n",
       " <selenium.webdriver.remote.webelement.WebElement (session=\"ed7b0eb826ee0bfbba876c9e80dd538e\", element=\"f7bb0d99-3005-4907-b02c-3355f4cfa887\")>,\n",
       " <selenium.webdriver.remote.webelement.WebElement (session=\"ed7b0eb826ee0bfbba876c9e80dd538e\", element=\"03f73e82-b39c-49b6-a7ce-3b4e4d3ad8bc\")>,\n",
       " <selenium.webdriver.remote.webelement.WebElement (session=\"ed7b0eb826ee0bfbba876c9e80dd538e\", element=\"fbce9ace-7536-45a5-8715-92f4a99c7eb6\")>,\n",
       " <selenium.webdriver.remote.webelement.WebElement (session=\"ed7b0eb826ee0bfbba876c9e80dd538e\", element=\"1f500acc-ed78-417a-83b5-a44333e14ae5\")>,\n",
       " <selenium.webdriver.remote.webelement.WebElement (session=\"ed7b0eb826ee0bfbba876c9e80dd538e\", element=\"d68a9bb3-c779-44d6-b8cc-ce267a44cbd5\")>,\n",
       " <selenium.webdriver.remote.webelement.WebElement (session=\"ed7b0eb826ee0bfbba876c9e80dd538e\", element=\"ded009e2-4377-4c24-a790-50071a956211\")>,\n",
       " <selenium.webdriver.remote.webelement.WebElement (session=\"ed7b0eb826ee0bfbba876c9e80dd538e\", element=\"cd23b6c0-f15a-4b05-b3c1-100239afabed\")>,\n",
       " <selenium.webdriver.remote.webelement.WebElement (session=\"ed7b0eb826ee0bfbba876c9e80dd538e\", element=\"3f568a57-f076-4301-8054-7f4891d2f140\")>,\n",
       " <selenium.webdriver.remote.webelement.WebElement (session=\"ed7b0eb826ee0bfbba876c9e80dd538e\", element=\"d2d91c93-93f7-4841-adb7-6fbf1e24a649\")>,\n",
       " <selenium.webdriver.remote.webelement.WebElement (session=\"ed7b0eb826ee0bfbba876c9e80dd538e\", element=\"68190de8-5605-42b7-bc84-cfb550b3c988\")>,\n",
       " <selenium.webdriver.remote.webelement.WebElement (session=\"ed7b0eb826ee0bfbba876c9e80dd538e\", element=\"48a8df07-8904-486c-8a0f-95b24c0fedd3\")>]"
      ]
     },
     "execution_count": 28,
     "metadata": {},
     "output_type": "execute_result"
    }
   ],
   "source": [
    "company_tags = driver.find_elements_by_xpath(\"//a[@class='subTitle ellipsis fleft']\")\n",
    "\n",
    "company_tags"
   ]
  },
  {
   "cell_type": "code",
   "execution_count": 30,
   "metadata": {},
   "outputs": [
    {
     "data": {
      "text/plain": [
       "['Integrated Digital Systems',\n",
       " 'NetApp',\n",
       " 'Byjus - Transforming Education using Technology',\n",
       " 'RANDSTAD INDIA PVT LTD',\n",
       " 'Amazon Development Centre (India) Pvt. Ltd.',\n",
       " 'Allegis Services India Pvt. Ltd.',\n",
       " 'Flipkart Internet Private Limited',\n",
       " 'Flipkart Internet Private Limited',\n",
       " 'Flipkart Internet Private Limited',\n",
       " 'Flipkart Internet Private Limited',\n",
       " 'Flipkart',\n",
       " 'INDIAVIDUAL LEARNING LIMITED',\n",
       " 'Flipkart',\n",
       " 'Applied Materials',\n",
       " 'Huawei Technologies',\n",
       " 'Scienaptic Systems',\n",
       " 'Optum Global Solutions (India) Private Limited',\n",
       " 'NTT Data',\n",
       " 'Trifacta',\n",
       " 'QUIN BAY TECHNOLOGIES PRIVATE LIMITED']"
      ]
     },
     "execution_count": 30,
     "metadata": {},
     "output_type": "execute_result"
    }
   ],
   "source": [
    "company_name = []\n",
    "\n",
    "for i in company_tags:\n",
    "    company=i.text\n",
    "    company_name.append(company)\n",
    "    \n",
    "company_name"
   ]
  },
  {
   "cell_type": "code",
   "execution_count": 32,
   "metadata": {},
   "outputs": [
    {
     "data": {
      "text/plain": [
       "10"
      ]
     },
     "execution_count": 32,
     "metadata": {},
     "output_type": "execute_result"
    }
   ],
   "source": [
    "company_name = company_name[0:10]\n",
    "\n",
    "len(company_name)"
   ]
  },
  {
   "cell_type": "code",
   "execution_count": 33,
   "metadata": {},
   "outputs": [
    {
     "data": {
      "text/plain": [
       "[<selenium.webdriver.remote.webelement.WebElement (session=\"ed7b0eb826ee0bfbba876c9e80dd538e\", element=\"a5c151ba-12b9-4e7f-9f83-a900f38cda57\")>,\n",
       " <selenium.webdriver.remote.webelement.WebElement (session=\"ed7b0eb826ee0bfbba876c9e80dd538e\", element=\"8d0afba6-9906-4751-87ff-e5752f47001d\")>,\n",
       " <selenium.webdriver.remote.webelement.WebElement (session=\"ed7b0eb826ee0bfbba876c9e80dd538e\", element=\"665812bb-19b2-4600-be03-8537888f0691\")>,\n",
       " <selenium.webdriver.remote.webelement.WebElement (session=\"ed7b0eb826ee0bfbba876c9e80dd538e\", element=\"218ed0e6-13e3-45b0-83aa-3b77ad56bb77\")>,\n",
       " <selenium.webdriver.remote.webelement.WebElement (session=\"ed7b0eb826ee0bfbba876c9e80dd538e\", element=\"83510452-46c2-46d3-a9c9-18674e38b5f1\")>,\n",
       " <selenium.webdriver.remote.webelement.WebElement (session=\"ed7b0eb826ee0bfbba876c9e80dd538e\", element=\"b73cdc11-e2c1-419d-8876-57824ba0805a\")>,\n",
       " <selenium.webdriver.remote.webelement.WebElement (session=\"ed7b0eb826ee0bfbba876c9e80dd538e\", element=\"4556309a-8ff5-4d3d-9efd-20127ab7a3a0\")>,\n",
       " <selenium.webdriver.remote.webelement.WebElement (session=\"ed7b0eb826ee0bfbba876c9e80dd538e\", element=\"baa6e4ac-2fce-4a83-8bac-d9386b898ad5\")>,\n",
       " <selenium.webdriver.remote.webelement.WebElement (session=\"ed7b0eb826ee0bfbba876c9e80dd538e\", element=\"6f55d911-79f3-4d5a-a457-7aab6bbbeb94\")>,\n",
       " <selenium.webdriver.remote.webelement.WebElement (session=\"ed7b0eb826ee0bfbba876c9e80dd538e\", element=\"11131171-388f-45ee-a8fe-890554566157\")>,\n",
       " <selenium.webdriver.remote.webelement.WebElement (session=\"ed7b0eb826ee0bfbba876c9e80dd538e\", element=\"2ae061be-c50d-46f6-a8f8-f5c62c0e4b71\")>,\n",
       " <selenium.webdriver.remote.webelement.WebElement (session=\"ed7b0eb826ee0bfbba876c9e80dd538e\", element=\"0484a63b-be1e-4b7c-9de0-b26b4017fd9c\")>,\n",
       " <selenium.webdriver.remote.webelement.WebElement (session=\"ed7b0eb826ee0bfbba876c9e80dd538e\", element=\"5f69c352-4b2b-4c72-9ea9-192b92431098\")>,\n",
       " <selenium.webdriver.remote.webelement.WebElement (session=\"ed7b0eb826ee0bfbba876c9e80dd538e\", element=\"d1c95833-f5c6-4083-8774-a82ab92e4eb0\")>,\n",
       " <selenium.webdriver.remote.webelement.WebElement (session=\"ed7b0eb826ee0bfbba876c9e80dd538e\", element=\"79abea47-fb78-454e-86d4-2f46cd07c403\")>,\n",
       " <selenium.webdriver.remote.webelement.WebElement (session=\"ed7b0eb826ee0bfbba876c9e80dd538e\", element=\"c8bc2298-c651-4965-9cb6-535e67388be4\")>,\n",
       " <selenium.webdriver.remote.webelement.WebElement (session=\"ed7b0eb826ee0bfbba876c9e80dd538e\", element=\"992a33da-8037-4fdf-a61e-3ed0734a1698\")>,\n",
       " <selenium.webdriver.remote.webelement.WebElement (session=\"ed7b0eb826ee0bfbba876c9e80dd538e\", element=\"bf040ae2-3814-47d6-a375-d7613203954a\")>,\n",
       " <selenium.webdriver.remote.webelement.WebElement (session=\"ed7b0eb826ee0bfbba876c9e80dd538e\", element=\"152293ea-d7ca-4278-bcb1-66e533846e45\")>,\n",
       " <selenium.webdriver.remote.webelement.WebElement (session=\"ed7b0eb826ee0bfbba876c9e80dd538e\", element=\"0bebb13d-8967-4878-ab0d-5aa363dd65b1\")>]"
      ]
     },
     "execution_count": 33,
     "metadata": {},
     "output_type": "execute_result"
    }
   ],
   "source": [
    "experience_tags = driver.find_elements_by_xpath(\"//li[@class='fleft grey-text br2 placeHolderLi experience']/span[1]\")\n",
    "\n",
    "experience_tags"
   ]
  },
  {
   "cell_type": "code",
   "execution_count": 34,
   "metadata": {},
   "outputs": [
    {
     "data": {
      "text/plain": [
       "['0-2 Yrs',\n",
       " '3-7 Yrs',\n",
       " '0-2 Yrs',\n",
       " '8-12 Yrs',\n",
       " '2-4 Yrs',\n",
       " '0-3 Yrs',\n",
       " '2-5 Yrs',\n",
       " '3-7 Yrs',\n",
       " '3-7 Yrs',\n",
       " '3-7 Yrs',\n",
       " '2-4 Yrs',\n",
       " '2-6 Yrs',\n",
       " '1-4 Yrs',\n",
       " '0-3 Yrs',\n",
       " '5-10 Yrs',\n",
       " '5-10 Yrs',\n",
       " '6-11 Yrs',\n",
       " '1-4 Yrs',\n",
       " '5-7 Yrs',\n",
       " '2-4 Yrs']"
      ]
     },
     "execution_count": 34,
     "metadata": {},
     "output_type": "execute_result"
    }
   ],
   "source": [
    "experience_required = []\n",
    "for i in experience_tags:\n",
    "    experience=i.text\n",
    "    experience_required.append(experience)\n",
    "    \n",
    "experience_required\n",
    "    "
   ]
  },
  {
   "cell_type": "code",
   "execution_count": 37,
   "metadata": {},
   "outputs": [
    {
     "data": {
      "text/plain": [
       "10"
      ]
     },
     "execution_count": 37,
     "metadata": {},
     "output_type": "execute_result"
    }
   ],
   "source": [
    "experience_required = experience_required[0:10]\n",
    "\n",
    "len(experience_required)"
   ]
  },
  {
   "cell_type": "code",
   "execution_count": 38,
   "metadata": {},
   "outputs": [
    {
     "data": {
      "text/html": [
       "<div>\n",
       "<style scoped>\n",
       "    .dataframe tbody tr th:only-of-type {\n",
       "        vertical-align: middle;\n",
       "    }\n",
       "\n",
       "    .dataframe tbody tr th {\n",
       "        vertical-align: top;\n",
       "    }\n",
       "\n",
       "    .dataframe thead th {\n",
       "        text-align: right;\n",
       "    }\n",
       "</style>\n",
       "<table border=\"1\" class=\"dataframe\">\n",
       "  <thead>\n",
       "    <tr style=\"text-align: right;\">\n",
       "      <th></th>\n",
       "      <th>Job-Title</th>\n",
       "      <th>Job-Location</th>\n",
       "      <th>Company-Name</th>\n",
       "      <th>Experience</th>\n",
       "    </tr>\n",
       "  </thead>\n",
       "  <tbody>\n",
       "    <tr>\n",
       "      <th>0</th>\n",
       "      <td>Associate Data Analyst</td>\n",
       "      <td>Bangalore/Bengaluru</td>\n",
       "      <td>Integrated Digital Systems</td>\n",
       "      <td>0-2 Yrs</td>\n",
       "    </tr>\n",
       "    <tr>\n",
       "      <th>1</th>\n",
       "      <td>SQL Data Analyst</td>\n",
       "      <td>Bangalore/Bengaluru</td>\n",
       "      <td>NetApp</td>\n",
       "      <td>3-7 Yrs</td>\n",
       "    </tr>\n",
       "    <tr>\n",
       "      <th>2</th>\n",
       "      <td>Data Analyst - Marketing</td>\n",
       "      <td>Bangalore/Bengaluru</td>\n",
       "      <td>Byjus - Transforming Education using Technology</td>\n",
       "      <td>0-2 Yrs</td>\n",
       "    </tr>\n",
       "    <tr>\n",
       "      <th>3</th>\n",
       "      <td>Business Data Analyst</td>\n",
       "      <td>Bangalore/Bengaluru</td>\n",
       "      <td>RANDSTAD INDIA PVT LTD</td>\n",
       "      <td>8-12 Yrs</td>\n",
       "    </tr>\n",
       "    <tr>\n",
       "      <th>4</th>\n",
       "      <td>Data Analyst</td>\n",
       "      <td>Bangalore/Bengaluru</td>\n",
       "      <td>Amazon Development Centre (India) Pvt. Ltd.</td>\n",
       "      <td>2-4 Yrs</td>\n",
       "    </tr>\n",
       "    <tr>\n",
       "      <th>5</th>\n",
       "      <td>Openings For Data Analyst</td>\n",
       "      <td>Bangalore/Bengaluru</td>\n",
       "      <td>Allegis Services India Pvt. Ltd.</td>\n",
       "      <td>0-3 Yrs</td>\n",
       "    </tr>\n",
       "    <tr>\n",
       "      <th>6</th>\n",
       "      <td>Senior Data Analyst</td>\n",
       "      <td>Bangalore/Bengaluru</td>\n",
       "      <td>Flipkart Internet Private Limited</td>\n",
       "      <td>2-5 Yrs</td>\n",
       "    </tr>\n",
       "    <tr>\n",
       "      <th>7</th>\n",
       "      <td>Senior Data Analyst</td>\n",
       "      <td>Bangalore/Bengaluru</td>\n",
       "      <td>Flipkart Internet Private Limited</td>\n",
       "      <td>3-7 Yrs</td>\n",
       "    </tr>\n",
       "    <tr>\n",
       "      <th>8</th>\n",
       "      <td>Senior Data Analyst</td>\n",
       "      <td>Bangalore/Bengaluru</td>\n",
       "      <td>Flipkart Internet Private Limited</td>\n",
       "      <td>3-7 Yrs</td>\n",
       "    </tr>\n",
       "    <tr>\n",
       "      <th>9</th>\n",
       "      <td>Senior Data Analyst</td>\n",
       "      <td>Bangalore/Bengaluru</td>\n",
       "      <td>Flipkart Internet Private Limited</td>\n",
       "      <td>3-7 Yrs</td>\n",
       "    </tr>\n",
       "  </tbody>\n",
       "</table>\n",
       "</div>"
      ],
      "text/plain": [
       "                   Job-Title         Job-Location  \\\n",
       "0     Associate Data Analyst  Bangalore/Bengaluru   \n",
       "1           SQL Data Analyst  Bangalore/Bengaluru   \n",
       "2   Data Analyst - Marketing  Bangalore/Bengaluru   \n",
       "3      Business Data Analyst  Bangalore/Bengaluru   \n",
       "4               Data Analyst  Bangalore/Bengaluru   \n",
       "5  Openings For Data Analyst  Bangalore/Bengaluru   \n",
       "6        Senior Data Analyst  Bangalore/Bengaluru   \n",
       "7        Senior Data Analyst  Bangalore/Bengaluru   \n",
       "8        Senior Data Analyst  Bangalore/Bengaluru   \n",
       "9        Senior Data Analyst  Bangalore/Bengaluru   \n",
       "\n",
       "                                      Company-Name Experience  \n",
       "0                       Integrated Digital Systems    0-2 Yrs  \n",
       "1                                           NetApp    3-7 Yrs  \n",
       "2  Byjus - Transforming Education using Technology    0-2 Yrs  \n",
       "3                           RANDSTAD INDIA PVT LTD   8-12 Yrs  \n",
       "4      Amazon Development Centre (India) Pvt. Ltd.    2-4 Yrs  \n",
       "5                 Allegis Services India Pvt. Ltd.    0-3 Yrs  \n",
       "6                Flipkart Internet Private Limited    2-5 Yrs  \n",
       "7                Flipkart Internet Private Limited    3-7 Yrs  \n",
       "8                Flipkart Internet Private Limited    3-7 Yrs  \n",
       "9                Flipkart Internet Private Limited    3-7 Yrs  "
      ]
     },
     "execution_count": 38,
     "metadata": {},
     "output_type": "execute_result"
    }
   ],
   "source": [
    "jobs = pd.DataFrame({})\n",
    "\n",
    "jobs['Job-Title'] = job_titles\n",
    "jobs['Job-Location']= job_location\n",
    "jobs['Company-Name']= company_name\n",
    "jobs['Experience']= experience_required\n",
    "\n",
    "jobs"
   ]
  },
  {
   "cell_type": "code",
   "execution_count": null,
   "metadata": {},
   "outputs": [],
   "source": []
  }
 ],
 "metadata": {
  "kernelspec": {
   "display_name": "Python 3",
   "language": "python",
   "name": "python3"
  },
  "language_info": {
   "codemirror_mode": {
    "name": "ipython",
    "version": 3
   },
   "file_extension": ".py",
   "mimetype": "text/x-python",
   "name": "python",
   "nbconvert_exporter": "python",
   "pygments_lexer": "ipython3",
   "version": "3.8.5"
  }
 },
 "nbformat": 4,
 "nbformat_minor": 4
}
